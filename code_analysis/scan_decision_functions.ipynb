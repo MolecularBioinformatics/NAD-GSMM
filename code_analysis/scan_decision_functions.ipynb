{
 "cells": [
  {
   "cell_type": "code",
   "execution_count": 1,
   "metadata": {
    "ExecuteTime": {
     "end_time": "2023-03-19T12:52:53.404541Z",
     "start_time": "2023-03-19T12:52:51.608021Z"
    }
   },
   "outputs": [],
   "source": [
    "import cobra\n",
    "import cofactors\n",
    "import matplotlib.pyplot as pp\n",
    "import seaborn as sb\n",
    "from pathlib import Path\n",
    "from glob import glob\n",
    "from plotting import *"
   ]
  },
  {
   "cell_type": "code",
   "execution_count": 2,
   "metadata": {
    "ExecuteTime": {
     "end_time": "2023-03-19T12:52:53.420048Z",
     "start_time": "2023-03-19T12:52:53.406117Z"
    }
   },
   "outputs": [],
   "source": [
    "sb.set(context='paper', style='whitegrid')"
   ]
  },
  {
   "cell_type": "code",
   "execution_count": 3,
   "metadata": {
    "ExecuteTime": {
     "end_time": "2023-03-19T12:52:53.605694Z",
     "start_time": "2023-03-19T12:52:53.421601Z"
    },
    "scrolled": true
   },
   "outputs": [
    {
     "name": "stdout",
     "output_type": "stream",
     "text": [
      "No mapping found for AMCOXO\n",
      "No mapping found for AMCOXO2_MitoCore\n",
      "ECs found for 102 reactions.\n",
      "No ECs found for 0 reactions.\n"
     ]
    }
   ],
   "source": [
    "mappings = cofactors.create_mappings_ec_mitocore_from_xml(\n",
    "    \"../external_data/mitocore/mitocore_v1.01.xml\"\n",
    ")\n",
    "kms_sabio = cofactors.read_sabiork(glob(\"../generated_data/sabiork_queries/*\"))\n",
    "kms_brenda = cofactors.read_brenda(glob(\"../generated_data/brenda_queries/*\"))\n",
    "subsystems = cofactors.read_subsystems(\"../external_data/mitocore/subsystems.csv\")\n",
    "\n",
    "# Brenda and SabioRK list concentrations as mM\n",
    "c_old = {\"Cytosol\": 0.11, \"Mitochondrion\": 0.23}\n",
    "c_mito = {\"Cytosol\": 0.066, \"Mitochondrion\": 0.023}"
   ]
  },
  {
   "cell_type": "code",
   "execution_count": 4,
   "metadata": {
    "ExecuteTime": {
     "end_time": "2023-03-19T12:52:54.447293Z",
     "start_time": "2023-03-19T12:52:53.606690Z"
    }
   },
   "outputs": [
    {
     "name": "stdout",
     "output_type": "stream",
     "text": [
      "Set parameter Username\n",
      "Academic license - for non-commercial use only - expires 2024-06-27\n"
     ]
    }
   ],
   "source": [
    "folder = Path('../generated_models')\n",
    "mitoparp = cobra.io.read_sbml_model(folder / 'gimme_mito.xml')\n",
    "c293 = cobra.io.read_sbml_model(folder / 'gimme_control.xml')"
   ]
  },
  {
   "cell_type": "code",
   "execution_count": 5,
   "metadata": {
    "ExecuteTime": {
     "end_time": "2023-03-19T12:52:54.463302Z",
     "start_time": "2023-03-19T12:52:54.449200Z"
    }
   },
   "outputs": [],
   "source": [
    "figpath = Path('../images/supplements/')"
   ]
  },
  {
   "cell_type": "code",
   "execution_count": 6,
   "metadata": {
    "ExecuteTime": {
     "end_time": "2023-03-19T12:53:09.936228Z",
     "start_time": "2023-03-19T12:52:54.464309Z"
    },
    "scrolled": true
   },
   "outputs": [
    {
     "name": "stdout",
     "output_type": "stream",
     "text": [
      "Read LP format model from file C:\\Users\\saute\\AppData\\Local\\Temp\\tmp8hdf6wsn.lp\n",
      "Reading time = 0.02 seconds\n",
      ": 367 rows, 916 columns, 3752 nonzeros\n",
      "Read LP format model from file C:\\Users\\saute\\AppData\\Local\\Temp\\tmpvi3adan4.lp\n",
      "Reading time = 0.03 seconds\n",
      ": 358 rows, 896 columns, 3664 nonzeros\n"
     ]
    }
   ],
   "source": [
    "fva_frac = .8\n",
    "mito_low_nad_min = cofactors.create_models_fva(mitoparp, mappings, kms_brenda, c_old, c_mito, obj_frac=fva_frac, decision=min)\n",
    "c293_low_nad_min = cofactors.create_models_fva(c293, mappings, kms_brenda, c_old, c_mito, obj_frac=fva_frac, decision=min)"
   ]
  },
  {
   "cell_type": "code",
   "execution_count": 7,
   "metadata": {
    "ExecuteTime": {
     "end_time": "2023-03-19T12:54:08.870572Z",
     "start_time": "2023-03-19T12:53:09.937229Z"
    }
   },
   "outputs": [
    {
     "name": "stdout",
     "output_type": "stream",
     "text": [
      "Read LP format model from file C:\\Users\\saute\\AppData\\Local\\Temp\\tmpt9mjtr86.lp\n",
      "Reading time = 0.04 seconds\n",
      ": 367 rows, 916 columns, 3752 nonzeros\n",
      "Read LP format model from file C:\\Users\\saute\\AppData\\Local\\Temp\\tmpopj9ippc.lp\n",
      "Reading time = 0.02 seconds\n",
      ": 358 rows, 896 columns, 3664 nonzeros\n",
      "Read LP format model from file C:\\Users\\saute\\AppData\\Local\\Temp\\tmpvpo3famf.lp\n",
      "Reading time = 0.02 seconds\n",
      ": 367 rows, 916 columns, 3752 nonzeros\n",
      "Read LP format model from file C:\\Users\\saute\\AppData\\Local\\Temp\\tmpi_mxsn2f.lp\n",
      "Reading time = 0.02 seconds\n",
      ": 358 rows, 896 columns, 3664 nonzeros\n"
     ]
    }
   ],
   "source": [
    "from statistics import mean, median\n",
    "mito_low_nad_med = cofactors.create_models_fva(mitoparp, mappings, kms_brenda, c_old, c_mito, obj_frac=fva_frac, decision=median)\n",
    "c293_low_nad_med = cofactors.create_models_fva(c293, mappings, kms_brenda, c_old, c_mito, obj_frac=fva_frac, decision=median)\n",
    "mito_low_nad_mean = cofactors.create_models_fva(mitoparp, mappings, kms_brenda, c_old, c_mito, obj_frac=fva_frac, decision=mean)\n",
    "c293_low_nad_mean = cofactors.create_models_fva(c293, mappings, kms_brenda, c_old, c_mito, obj_frac=fva_frac, decision=mean)"
   ]
  },
  {
   "cell_type": "code",
   "execution_count": 8,
   "metadata": {
    "ExecuteTime": {
     "end_time": "2023-03-19T12:54:09.311811Z",
     "start_time": "2023-03-19T12:54:08.873580Z"
    }
   },
   "outputs": [],
   "source": [
    "sol_m_min = mito_low_nad_min.optimize()\n",
    "sol_m_med = mito_low_nad_med.optimize()\n",
    "sol_m_mean = mito_low_nad_mean.optimize()\n",
    "\n",
    "sol_c_min = c293_low_nad_min.optimize()\n",
    "sol_c_med = c293_low_nad_med.optimize()\n",
    "sol_c_mean = c293_low_nad_mean.optimize()"
   ]
  },
  {
   "cell_type": "code",
   "execution_count": 9,
   "metadata": {
    "ExecuteTime": {
     "end_time": "2023-03-19T12:54:09.324346Z",
     "start_time": "2023-03-19T12:54:09.317809Z"
    }
   },
   "outputs": [],
   "source": [
    "sol_m_min_atp = sol_m_min.objective_value\n",
    "sol_m_med_atp = sol_m_med.objective_value\n",
    "sol_m_mean_atp = sol_m_mean.objective_value\n",
    "\n",
    "sol_c_min_atp = sol_c_min.objective_value\n",
    "sol_c_med_atp = sol_c_med.objective_value\n",
    "sol_c_mean_atp = sol_c_mean.objective_value"
   ]
  },
  {
   "cell_type": "code",
   "execution_count": 10,
   "metadata": {
    "ExecuteTime": {
     "end_time": "2023-03-19T18:22:07.423782Z",
     "start_time": "2023-03-19T18:22:06.874356Z"
    }
   },
   "outputs": [
    {
     "data": {
      "image/png": "[encoded data removed]",
      "text/plain": [
       "<Figure size 640x480 with 1 Axes>"
      ]
     },
     "metadata": {},
     "output_type": "display_data"
    }
   ],
   "source": [
    "x = ['293mitoPARP low NAD', 'HEK293 low NAD']\n",
    "pp.rcParams.update({'font.size': 48})\n",
    "pp.bar(x, [sol_m_min_atp, sol_c_min_atp], label='minimum')\n",
    "pp.bar(x, [sol_m_med_atp, sol_c_med_atp], label='median')\n",
    "pp.bar(x, [sol_m_mean_atp, sol_c_mean_atp], label='mean')\n",
    "pp.legend(loc='lower right')\n",
    "pp.ylabel('ATP objective flux')\n",
    "\n",
    "ax = pp.gca()\n",
    "fig = ax.get_figure()\n",
    "pp.tight_layout()\n",
    "fig.savefig(figpath / 'figure_s4.svg')"
   ]
  }
 ],
 "metadata": {
  "kernelspec": {
   "display_name": "nad2",
   "language": "python",
   "name": "python3"
  },
  "language_info": {
   "codemirror_mode": {
    "name": "ipython",
    "version": 3
   },
   "file_extension": ".py",
   "mimetype": "text/x-python",
   "name": "python",
   "nbconvert_exporter": "python",
   "pygments_lexer": "ipython3",
   "version": "3.10.11"
  },
  "toc": {
   "base_numbering": 1,
   "nav_menu": {},
   "number_sections": true,
   "sideBar": true,
   "skip_h1_title": false,
   "title_cell": "Table of Contents",
   "title_sidebar": "Contents",
   "toc_cell": false,
   "toc_position": {},
   "toc_section_display": true,
   "toc_window_display": false
  },
  "varInspector": {
   "cols": {
    "lenName": 16,
    "lenType": 16,
    "lenVar": 40
   },
   "kernels_config": {
    "python": {
     "delete_cmd_postfix": "",
     "delete_cmd_prefix": "del ",
     "library": "var_list.py",
     "varRefreshCmd": "print(var_dic_list())"
    },
    "r": {
     "delete_cmd_postfix": ") ",
     "delete_cmd_prefix": "rm(",
     "library": "var_list.r",
     "varRefreshCmd": "cat(var_dic_list()) "
    }
   },
   "types_to_exclude": [
    "module",
    "function",
    "builtin_function_or_method",
    "instance",
    "_Feature"
   ],
   "window_display": false
  }
 },
 "nbformat": 4,
 "nbformat_minor": 4
}
