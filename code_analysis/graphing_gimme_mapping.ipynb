{
 "cells": [
  {
   "cell_type": "code",
   "execution_count": 10,
   "id": "e706dd80",
   "metadata": {
    "ExecuteTime": {
     "end_time": "2023-04-01T19:57:32.129428Z",
     "start_time": "2023-04-01T19:57:26.038725Z"
    }
   },
   "outputs": [],
   "source": [
    "import pandas as pd\n",
    "import matplotlib.pyplot as pp\n",
    "from pathlib import Path"
   ]
  },
  {
   "cell_type": "code",
   "execution_count": 11,
   "id": "7a0c97f6",
   "metadata": {
    "ExecuteTime": {
     "end_time": "2023-04-01T19:57:32.146058Z",
     "start_time": "2023-04-01T19:57:32.131442Z"
    }
   },
   "outputs": [],
   "source": [
    "file_path = Path('../generated_data/')\n",
    "file_293 = file_path / 'mapped_control.csv'\n",
    "file_mito = file_path / 'mapped_mito.csv'"
   ]
  },
  {
   "cell_type": "code",
   "execution_count": 12,
   "id": "6cc35c37",
   "metadata": {
    "ExecuteTime": {
     "end_time": "2023-04-01T19:57:32.178283Z",
     "start_time": "2023-04-01T19:57:32.148067Z"
    }
   },
   "outputs": [
    {
     "data": {
      "text/html": [
       "<div>\n",
       "<style scoped>\n",
       "    .dataframe tbody tr th:only-of-type {\n",
       "        vertical-align: middle;\n",
       "    }\n",
       "\n",
       "    .dataframe tbody tr th {\n",
       "        vertical-align: top;\n",
       "    }\n",
       "\n",
       "    .dataframe thead th {\n",
       "        text-align: right;\n",
       "    }\n",
       "</style>\n",
       "<table border=\"1\" class=\"dataframe\">\n",
       "  <thead>\n",
       "    <tr style=\"text-align: right;\">\n",
       "      <th></th>\n",
       "      <th>value</th>\n",
       "    </tr>\n",
       "    <tr>\n",
       "      <th>reaction</th>\n",
       "      <th></th>\n",
       "    </tr>\n",
       "  </thead>\n",
       "  <tbody>\n",
       "    <tr>\n",
       "      <th>OF_ATP_MitoCore</th>\n",
       "      <td>NaN</td>\n",
       "    </tr>\n",
       "    <tr>\n",
       "      <th>OF_HEME_MitoCore</th>\n",
       "      <td>NaN</td>\n",
       "    </tr>\n",
       "    <tr>\n",
       "      <th>OF_LIPID_MitoCore</th>\n",
       "      <td>NaN</td>\n",
       "    </tr>\n",
       "    <tr>\n",
       "      <th>OF_PROTEIN_MitoCore</th>\n",
       "      <td>NaN</td>\n",
       "    </tr>\n",
       "    <tr>\n",
       "      <th>HEX1</th>\n",
       "      <td>1.247</td>\n",
       "    </tr>\n",
       "  </tbody>\n",
       "</table>\n",
       "</div>"
      ],
      "text/plain": [
       "                     value\n",
       "reaction                  \n",
       "OF_ATP_MitoCore        NaN\n",
       "OF_HEME_MitoCore       NaN\n",
       "OF_LIPID_MitoCore      NaN\n",
       "OF_PROTEIN_MitoCore    NaN\n",
       "HEX1                 1.247"
      ]
     },
     "execution_count": 12,
     "metadata": {},
     "output_type": "execute_result"
    }
   ],
   "source": [
    "con = pd.read_csv(file_293)\n",
    "con.rename(columns = {'Var1': 'reaction', 'Var2': 'value'}, inplace=True)\n",
    "con.set_index('reaction', inplace=True)\n",
    "con.head()"
   ]
  },
  {
   "cell_type": "code",
   "execution_count": 13,
   "id": "8eb4ab71",
   "metadata": {
    "ExecuteTime": {
     "end_time": "2023-04-01T19:57:32.208585Z",
     "start_time": "2023-04-01T19:57:32.179751Z"
    }
   },
   "outputs": [
    {
     "data": {
      "text/html": [
       "<div>\n",
       "<style scoped>\n",
       "    .dataframe tbody tr th:only-of-type {\n",
       "        vertical-align: middle;\n",
       "    }\n",
       "\n",
       "    .dataframe tbody tr th {\n",
       "        vertical-align: top;\n",
       "    }\n",
       "\n",
       "    .dataframe thead th {\n",
       "        text-align: right;\n",
       "    }\n",
       "</style>\n",
       "<table border=\"1\" class=\"dataframe\">\n",
       "  <thead>\n",
       "    <tr style=\"text-align: right;\">\n",
       "      <th></th>\n",
       "      <th>value</th>\n",
       "    </tr>\n",
       "    <tr>\n",
       "      <th>reaction</th>\n",
       "      <th></th>\n",
       "    </tr>\n",
       "  </thead>\n",
       "  <tbody>\n",
       "    <tr>\n",
       "      <th>OF_ATP_MitoCore</th>\n",
       "      <td>NaN</td>\n",
       "    </tr>\n",
       "    <tr>\n",
       "      <th>OF_HEME_MitoCore</th>\n",
       "      <td>NaN</td>\n",
       "    </tr>\n",
       "    <tr>\n",
       "      <th>OF_LIPID_MitoCore</th>\n",
       "      <td>NaN</td>\n",
       "    </tr>\n",
       "    <tr>\n",
       "      <th>OF_PROTEIN_MitoCore</th>\n",
       "      <td>NaN</td>\n",
       "    </tr>\n",
       "    <tr>\n",
       "      <th>HEX1</th>\n",
       "      <td>1.318333</td>\n",
       "    </tr>\n",
       "  </tbody>\n",
       "</table>\n",
       "</div>"
      ],
      "text/plain": [
       "                        value\n",
       "reaction                     \n",
       "OF_ATP_MitoCore           NaN\n",
       "OF_HEME_MitoCore          NaN\n",
       "OF_LIPID_MitoCore         NaN\n",
       "OF_PROTEIN_MitoCore       NaN\n",
       "HEX1                 1.318333"
      ]
     },
     "execution_count": 13,
     "metadata": {},
     "output_type": "execute_result"
    }
   ],
   "source": [
    "mito = pd.read_csv(file_mito)\n",
    "mito.rename(columns = {'Var1': 'reaction', 'Var2': 'value'}, inplace=True)\n",
    "mito.set_index('reaction', inplace=True)\n",
    "mito.head()"
   ]
  },
  {
   "cell_type": "code",
   "execution_count": 14,
   "id": "1b0a1797",
   "metadata": {
    "ExecuteTime": {
     "end_time": "2023-04-01T19:57:32.224198Z",
     "start_time": "2023-04-01T19:57:32.209584Z"
    }
   },
   "outputs": [],
   "source": [
    "con_nans = sum(con.isna().values)[0]\n",
    "con_mapped = len(con.dropna())"
   ]
  },
  {
   "cell_type": "code",
   "execution_count": 15,
   "id": "e6974c1c",
   "metadata": {
    "ExecuteTime": {
     "end_time": "2023-04-01T19:57:32.238910Z",
     "start_time": "2023-04-01T19:57:32.226294Z"
    }
   },
   "outputs": [],
   "source": [
    "mito_nans = sum(mito.isna().values)[0]\n",
    "mito_mapped = len(mito.dropna())"
   ]
  },
  {
   "cell_type": "code",
   "execution_count": 16,
   "id": "42121783",
   "metadata": {
    "ExecuteTime": {
     "end_time": "2023-04-01T19:57:32.286011Z",
     "start_time": "2023-04-01T19:57:32.241920Z"
    }
   },
   "outputs": [],
   "source": [
    "rxns = pd.read_csv('../external_data//mitocore/rxns_machine_readable.csv').dropna(subset=['Gene Name'])\n",
    "rxns = rxns[rxns['Gene Name'] != 'Unknown']\n",
    "rxns_with_gene = len(rxns)"
   ]
  },
  {
   "cell_type": "code",
   "execution_count": 17,
   "id": "659e8380",
   "metadata": {
    "ExecuteTime": {
     "end_time": "2023-04-01T19:57:32.302073Z",
     "start_time": "2023-04-01T19:57:32.289014Z"
    }
   },
   "outputs": [
    {
     "name": "stdout",
     "output_type": "stream",
     "text": [
      "True\n",
      "True\n",
      "True\n"
     ]
    }
   ],
   "source": [
    "print(len(con) == len(mito))\n",
    "print(mito_nans == con_nans)\n",
    "print(mito_mapped == con_mapped)"
   ]
  },
  {
   "cell_type": "code",
   "execution_count": 18,
   "id": "e11c40df",
   "metadata": {
    "ExecuteTime": {
     "end_time": "2023-04-02T11:53:32.805680Z",
     "start_time": "2023-04-02T11:53:32.653932Z"
    }
   },
   "outputs": [
    {
     "data": {
      "image/png": "[encoded data removed]",
      "text/plain": [
       "<Figure size 640x480 with 1 Axes>"
      ]
     },
     "metadata": {},
     "output_type": "display_data"
    }
   ],
   "source": [
    "fig_path = Path('../images/supplements/')\n",
    "plot = [len(mito), rxns_with_gene, mito_mapped, mito_nans]\n",
    "labels = [\n",
    "    'Reactions\\nin model', \n",
    "    'Reactions\\nwith genes\\nannotated', \n",
    "    'Reactions\\nwith values\\nmapped',\n",
    "    'Reactions\\nwith no values\\nmapped'\n",
    "]\n",
    "pp.bar(height=plot, x=labels)\n",
    "pp.ylabel('# reactions')\n",
    "pp.title(\"Reaction breakdown for GIMME integration\")\n",
    "\n",
    "pp.annotate(str(len(mito)), (-.1, 50))\n",
    "pp.annotate(str(rxns_with_gene), (1.-.1, 50))\n",
    "pp.annotate(str(mito_mapped), (2.-.1, 50))\n",
    "pp.annotate(str(mito_nans), (3.-.1, 50))\n",
    "\n",
    "pp.tight_layout()\n",
    "\n",
    "ax = pp.gca()\n",
    "fig = ax.get_figure()"
   ]
  }
 ],
 "metadata": {
  "kernelspec": {
   "display_name": "Python 3 (ipykernel)",
   "language": "python",
   "name": "python3"
  },
  "language_info": {
   "codemirror_mode": {
    "name": "ipython",
    "version": 3
   },
   "file_extension": ".py",
   "mimetype": "text/x-python",
   "name": "python",
   "nbconvert_exporter": "python",
   "pygments_lexer": "ipython3",
   "version": "3.10.11"
  },
  "toc": {
   "base_numbering": 1,
   "nav_menu": {},
   "number_sections": true,
   "sideBar": true,
   "skip_h1_title": false,
   "title_cell": "Table of Contents",
   "title_sidebar": "Contents",
   "toc_cell": false,
   "toc_position": {},
   "toc_section_display": true,
   "toc_window_display": false
  },
  "varInspector": {
   "cols": {
    "lenName": 16,
    "lenType": 16,
    "lenVar": 40
   },
   "kernels_config": {
    "python": {
     "delete_cmd_postfix": "",
     "delete_cmd_prefix": "del ",
     "library": "var_list.py",
     "varRefreshCmd": "print(var_dic_list())"
    },
    "r": {
     "delete_cmd_postfix": ") ",
     "delete_cmd_prefix": "rm(",
     "library": "var_list.r",
     "varRefreshCmd": "cat(var_dic_list()) "
    }
   },
   "types_to_exclude": [
    "module",
    "function",
    "builtin_function_or_method",
    "instance",
    "_Feature"
   ],
   "window_display": false
  }
 },
 "nbformat": 4,
 "nbformat_minor": 5
}
