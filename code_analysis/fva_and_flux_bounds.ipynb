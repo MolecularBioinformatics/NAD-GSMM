{
 "cells": [
  {
   "cell_type": "code",
   "execution_count": 1,
   "metadata": {},
   "outputs": [],
   "source": [
    "import pandas as pd\n",
    "from pathlib import Path"
   ]
  },
  {
   "cell_type": "code",
   "execution_count": 2,
   "metadata": {},
   "outputs": [],
   "source": [
    "data_path = Path('../results/supplements')\n",
    "assert data_path.exists()"
   ]
  },
  {
   "cell_type": "code",
   "execution_count": 3,
   "metadata": {},
   "outputs": [],
   "source": [
    "lower_bounds = pd.read_csv(data_path / \"lower_bounds.csv\", index_col=0)\n",
    "upper_bounds = pd.read_csv(data_path / \"upper_bounds.csv\", index_col=0)\n",
    "lower_bounds.sort_values(\"subsystem\").to_csv(data_path / 'lower_bounds.csv')\n",
    "upper_bounds.sort_values(\"subsystem\").to_csv(data_path / \"upper_bounds.csv\")"
   ]
  },
  {
   "cell_type": "code",
   "execution_count": 4,
   "metadata": {},
   "outputs": [],
   "source": [
    "fva_upper = pd.read_csv(data_path / \"fluxes_fva_upper.csv\", index_col=0)\n",
    "fva_upper.sort_values(\"subsystem\").to_csv(data_path / 'fluxes_fva_upper.csv')\n",
    "fva_lower = pd.read_csv(data_path / \"fluxes_fva_lower.csv\", index_col=0)\n",
    "fva_lower.sort_values(\"subsystem\").to_csv(data_path / 'fluxes_fva_lower.csv')"
   ]
  },
  {
   "cell_type": "code",
   "execution_count": 5,
   "metadata": {},
   "outputs": [],
   "source": [
    "fluxes = pd.read_csv(data_path / \"fluxes_pfba.csv\", index_col=0)\n",
    "fluxes.sort_values(\"subsystem\").to_csv(data_path / \"fluxes_pfba.csv\")"
   ]
  },
  {
   "cell_type": "code",
   "execution_count": 6,
   "metadata": {},
   "outputs": [],
   "source": [
    "reactions = pd.read_csv('../external_data/mitocore/rxns_machine_readable.csv', index_col=0)\n",
    "reactions.index = reactions.index.map(lambda s: s[2:])"
   ]
  },
  {
   "cell_type": "code",
   "execution_count": 7,
   "metadata": {},
   "outputs": [],
   "source": [
    "nad_rxns = list(\n",
    "    reactions[\n",
    "        reactions.Equation.str.contains(\"nad_\")\n",
    "        | reactions.Equation.str.contains(\"nadh_\")\n",
    "    ].index\n",
    ")\n",
    "nadp_rxns = list(\n",
    "    reactions[\n",
    "        reactions.Equation.str.contains(\"nadp_\")\n",
    "        | reactions.Equation.str.contains(\"nadph_\")\n",
    "    ].index\n",
    ")"
   ]
  },
  {
   "cell_type": "code",
   "execution_count": 8,
   "metadata": {},
   "outputs": [
    {
     "data": {
      "text/plain": [
       "{'mitoparp': '293mitoparp_high',\n",
       " '293': 'hek293_high',\n",
       " 'mitoparp + low NAD': '293mitoparp_low',\n",
       " '293 + low NAD': 'hek293_low'}"
      ]
     },
     "execution_count": 8,
     "metadata": {},
     "output_type": "execute_result"
    }
   ],
   "source": [
    "cell_lines = list(lower_bounds.columns[:4])\n",
    "file_names = [\"293mitoparp_high\", \"hek293_high\", \"293mitoparp_low\", \"hek293_low\"]\n",
    "files = dict(zip(cell_lines, file_names))\n",
    "files"
   ]
  },
  {
   "cell_type": "code",
   "execution_count": 9,
   "metadata": {},
   "outputs": [],
   "source": [
    "for cell_line in cell_lines:\n",
    "    paths = lower_bounds['subsystem']\n",
    "    file_name = files[cell_line] + '.csv'\n",
    "    lb = lower_bounds.loc[:, cell_line]\n",
    "    ub = upper_bounds.loc[:, cell_line]\n",
    "    fb_low = fva_lower.loc[:, cell_line]\n",
    "    fb_up = fva_upper.loc[:, cell_line]\n",
    "    fl = fluxes.loc[:, cell_line]\n",
    "    df = pd.concat([fl, lb, ub, fb_low, fb_up, paths], axis=1)\n",
    "    df.columns = ['flux_pfba', 'lower_bound', 'upper_bound', 'fva_lower', 'fva_upper', 'pathway']\n",
    "    df['nad_dependent'] = False\n",
    "    df['nadp_dependent'] = False\n",
    "    nad_present = [r for r in nad_rxns if r in lb.index]\n",
    "    nadp_present = [r for r in nadp_rxns if r in lb.index]\n",
    "    df.loc[nad_present, 'nad_dependent'] = True\n",
    "    df.loc[nadp_present, 'nadp_dependent'] = True\n",
    "    df.sort_values('pathway').to_csv(data_path / file_name)"
   ]
  }
 ],
 "metadata": {
  "kernelspec": {
   "display_name": "nad3",
   "language": "python",
   "name": "python3"
  },
  "language_info": {
   "codemirror_mode": {
    "name": "ipython",
    "version": 3
   },
   "file_extension": ".py",
   "mimetype": "text/x-python",
   "name": "python",
   "nbconvert_exporter": "python",
   "pygments_lexer": "ipython3",
   "version": "3.12.0"
  }
 },
 "nbformat": 4,
 "nbformat_minor": 2
}
