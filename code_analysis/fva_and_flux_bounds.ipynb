{
 "cells": [
  {
   "cell_type": "code",
   "execution_count": 1,
   "metadata": {},
   "outputs": [],
   "source": [
    "import pandas as pd\n",
    "import seaborn as sb\n",
    "from pathlib import Path\n",
    "from matplotlib import pyplot as pp\n",
    "import numpy as np"
   ]
  },
  {
   "cell_type": "code",
   "execution_count": 2,
   "metadata": {},
   "outputs": [],
   "source": [
    "data_path = Path('../results')\n",
    "assert data_path.exists()"
   ]
  },
  {
   "cell_type": "code",
   "execution_count": 3,
   "metadata": {},
   "outputs": [],
   "source": [
    "lower_bounds = pd.read_csv(data_path / \"lower_bounds.csv\", index_col=0)\n",
    "upper_bounds = pd.read_csv(data_path / \"upper_bounds.csv\", index_col=0)\n",
    "lower_bounds.sort_values(\"subsystem\").to_csv(data_path / 'lower_bounds.csv')\n",
    "upper_bounds.sort_values(\"subsystem\").to_csv(data_path / \"upper_bounds.csv\")"
   ]
  },
  {
   "cell_type": "code",
   "execution_count": 4,
   "metadata": {},
   "outputs": [],
   "source": [
    "fva_upper = pd.read_csv(data_path / \"fluxes_fva_upper.csv\", index_col=0)\n",
    "fva_upper.sort_values(\"subsystem\").to_csv(data_path / 'fluxes_fva_upper.csv')\n",
    "fva_lower = pd.read_csv(data_path / \"fluxes_fva_lower.csv\", index_col=0)\n",
    "fva_lower.sort_values(\"subsystem\").to_csv(data_path / 'fluxes_fva_lower.csv')"
   ]
  },
  {
   "cell_type": "code",
   "execution_count": 5,
   "metadata": {},
   "outputs": [],
   "source": [
    "reactions = pd.read_csv('../external_data/mitocore/rxns_machine_readable.csv', index_col=0)\n",
    "reactions.index = reactions.index.map(lambda s: s[2:])"
   ]
  },
  {
   "cell_type": "code",
   "execution_count": 6,
   "metadata": {},
   "outputs": [
    {
     "data": {
      "text/plain": [
       "293                                         0.575\n",
       "mitoparp                                    0.575\n",
       "293 + high NAD                              0.575\n",
       "mitoparp + high NAD                         0.575\n",
       "293 + low NAD                             0.37182\n",
       "mitoparp + low NAD                        0.37182\n",
       "subsystem              Glycolysis/gluconeogenesis\n",
       "Name: LDH_L, dtype: object"
      ]
     },
     "execution_count": 6,
     "metadata": {},
     "output_type": "execute_result"
    }
   ],
   "source": [
    "fva_upper.loc['LDH_L', :]"
   ]
  },
  {
   "cell_type": "code",
   "execution_count": 7,
   "metadata": {},
   "outputs": [],
   "source": [
    "nad_rxns = list(\n",
    "    reactions[\n",
    "        reactions.Equation.str.contains(\"nad_\")\n",
    "        | reactions.Equation.str.contains(\"nadh_\")\n",
    "    ].index\n",
    ")\n",
    "nadp_rxns = list(\n",
    "    reactions[\n",
    "        reactions.Equation.str.contains(\"nadp_\")\n",
    "        | reactions.Equation.str.contains(\"nadph_\")\n",
    "    ].index\n",
    ")"
   ]
  },
  {
   "cell_type": "code",
   "execution_count": 8,
   "metadata": {},
   "outputs": [],
   "source": [
    "def add_nad_annotation(df):\n",
    "    df[\"nad\"] = False\n",
    "    df[\"nadp\"] = False\n",
    "    df.loc[nad_rxns, \"nad\"] = True\n",
    "    df.loc[nadp_rxns, \"nadp\"] = True"
   ]
  },
  {
   "cell_type": "code",
   "execution_count": 9,
   "metadata": {},
   "outputs": [],
   "source": [
    "add_nad_annotation(lower_bounds)\n",
    "add_nad_annotation(upper_bounds)\n",
    "add_nad_annotation(fva_lower)\n",
    "add_nad_annotation(fva_upper)"
   ]
  },
  {
   "cell_type": "code",
   "execution_count": 10,
   "metadata": {},
   "outputs": [
    {
     "data": {
      "text/plain": [
       "mitoparp                                   1000.0\n",
       "293                                        1000.0\n",
       "293 + high NAD                              0.575\n",
       "mitoparp + high NAD                         0.575\n",
       "mitoparp + low NAD                        0.37182\n",
       "293 + low NAD                             0.37182\n",
       "subsystem              Glycolysis/gluconeogenesis\n",
       "nad                                          True\n",
       "nadp                                        False\n",
       "Name: LDH_L, dtype: object"
      ]
     },
     "execution_count": 10,
     "metadata": {},
     "output_type": "execute_result"
    }
   ],
   "source": [
    "upper_bounds.loc['LDH_L', :]"
   ]
  },
  {
   "cell_type": "code",
   "execution_count": 11,
   "metadata": {},
   "outputs": [
    {
     "data": {
      "text/plain": [
       "mitoparp                                  -1000.0\n",
       "293                                       -1000.0\n",
       "293 + high NAD                            -2.0555\n",
       "mitoparp + high NAD                       -2.0875\n",
       "mitoparp + low NAD                      -1.349867\n",
       "293 + low NAD                           -1.329175\n",
       "subsystem              Glycolysis/gluconeogenesis\n",
       "nad                                          True\n",
       "nadp                                        False\n",
       "Name: LDH_L, dtype: object"
      ]
     },
     "execution_count": 11,
     "metadata": {},
     "output_type": "execute_result"
    }
   ],
   "source": [
    "lower_bounds.loc[\"LDH_L\", :]"
   ]
  },
  {
   "cell_type": "code",
   "execution_count": 12,
   "metadata": {},
   "outputs": [],
   "source": [
    "# use LDH as an example?"
   ]
  },
  {
   "cell_type": "code",
   "execution_count": 13,
   "metadata": {},
   "outputs": [],
   "source": [
    "nad_lower = fva_lower[fva_lower.nad]\n",
    "nad_upper = fva_upper[fva_upper.nad]"
   ]
  },
  {
   "cell_type": "code",
   "execution_count": 14,
   "metadata": {},
   "outputs": [
    {
     "data": {
      "image/png": "[encoded data removed]",
      "text/plain": [
       "<Figure size 600x600 with 3 Axes>"
      ]
     },
     "metadata": {},
     "output_type": "display_data"
    }
   ],
   "source": [
    "def scatter_hist(x, y, ax, ax_histx, ax_histy):\n",
    "    # no labels\n",
    "    ax_histx.tick_params(axis=\"x\", labelbottom=False)\n",
    "    ax_histy.tick_params(axis=\"y\", labelleft=False)\n",
    "\n",
    "    # the scatter plot:\n",
    "    ax.scatter(x, y)\n",
    "\n",
    "    # now determine nice limits by hand:\n",
    "    binwidth = 0.5\n",
    "    xymax = max(np.max(np.abs(x)), np.max(np.abs(y)))\n",
    "    lim = (int(xymax / binwidth) + 1) * binwidth\n",
    "\n",
    "    bins = np.arange(-lim, lim + binwidth, binwidth)\n",
    "    ax_histx.hist(x, bins=bins)\n",
    "    ax_histy.hist(y, bins=bins, orientation=\"horizontal\")\n",
    "\n",
    "\n",
    "# Start with a square Figure.\n",
    "fig = pp.figure(figsize=(6, 6))\n",
    "# Add a gridspec with two rows and two columns and a ratio of 1 to 4 between\n",
    "# the size of the marginal axes and the main axes in both directions.\n",
    "# Also adjust the subplot parameters for a square plot.\n",
    "gs = fig.add_gridspec(\n",
    "    2,\n",
    "    2,\n",
    "    width_ratios=(4, 1),\n",
    "    height_ratios=(1, 4),\n",
    "    left=0.1,\n",
    "    right=0.9,\n",
    "    bottom=0.1,\n",
    "    top=0.9,\n",
    "    wspace=0.05,\n",
    "    hspace=0.05,\n",
    ")\n",
    "# Create the Axes.\n",
    "ax = fig.add_subplot(gs[1, 0])\n",
    "ax_histx = fig.add_subplot(gs[0, 0], sharex=ax)\n",
    "ax_histy = fig.add_subplot(gs[1, 1], sharey=ax)\n",
    "# Draw the scatter plot and marginals.\n",
    "scatter_hist(nad_lower['mitoparp'], nad_upper['mitoparp'], ax, ax_histx, ax_histy)"
   ]
  },
  {
   "cell_type": "code",
   "execution_count": 15,
   "metadata": {},
   "outputs": [
    {
     "data": {
      "text/plain": [
       "count     474.000000\n",
       "mean      413.737469\n",
       "std      1626.803760\n",
       "min         0.000000\n",
       "25%         0.024000\n",
       "50%         1.288000\n",
       "75%        10.074750\n",
       "max      8000.000000\n",
       "dtype: float64"
      ]
     },
     "execution_count": 15,
     "metadata": {},
     "output_type": "execute_result"
    }
   ],
   "source": [
    "(fva_lower.iloc[:, :4].abs() + fva_upper.iloc[:, :4].abs()).sum(axis=1).describe()"
   ]
  },
  {
   "cell_type": "code",
   "execution_count": 16,
   "metadata": {},
   "outputs": [
    {
     "data": {
      "text/html": [
       "<div>\n",
       "<style scoped>\n",
       "    .dataframe tbody tr th:only-of-type {\n",
       "        vertical-align: middle;\n",
       "    }\n",
       "\n",
       "    .dataframe tbody tr th {\n",
       "        vertical-align: top;\n",
       "    }\n",
       "\n",
       "    .dataframe thead th {\n",
       "        text-align: right;\n",
       "    }\n",
       "</style>\n",
       "<table border=\"1\" class=\"dataframe\">\n",
       "  <thead>\n",
       "    <tr style=\"text-align: right;\">\n",
       "      <th></th>\n",
       "      <th>mitoparp</th>\n",
       "      <th>293</th>\n",
       "      <th>293 + high NAD</th>\n",
       "      <th>mitoparp + high NAD</th>\n",
       "      <th>nad</th>\n",
       "      <th>nadp</th>\n",
       "      <th>subsystem</th>\n",
       "    </tr>\n",
       "  </thead>\n",
       "  <tbody>\n",
       "    <tr>\n",
       "      <th>ACOAHi</th>\n",
       "      <td>1000.0</td>\n",
       "      <td>1000.0</td>\n",
       "      <td>1000.0</td>\n",
       "      <td>1000.0</td>\n",
       "      <td>False</td>\n",
       "      <td>False</td>\n",
       "      <td>Acetate production</td>\n",
       "    </tr>\n",
       "    <tr>\n",
       "      <th>ALCD2if</th>\n",
       "      <td>1000.0</td>\n",
       "      <td>1000.0</td>\n",
       "      <td>0.0</td>\n",
       "      <td>0.0</td>\n",
       "      <td>True</td>\n",
       "      <td>False</td>\n",
       "      <td>Alcohol metabolism</td>\n",
       "    </tr>\n",
       "    <tr>\n",
       "      <th>ALCD2yf</th>\n",
       "      <td>1000.0</td>\n",
       "      <td>1000.0</td>\n",
       "      <td>0.0</td>\n",
       "      <td>0.0</td>\n",
       "      <td>False</td>\n",
       "      <td>True</td>\n",
       "      <td>Alcohol metabolism</td>\n",
       "    </tr>\n",
       "    <tr>\n",
       "      <th>ALDD2x</th>\n",
       "      <td>1000.0</td>\n",
       "      <td>1000.0</td>\n",
       "      <td>0.0</td>\n",
       "      <td>0.0</td>\n",
       "      <td>True</td>\n",
       "      <td>False</td>\n",
       "      <td>Alcohol metabolism</td>\n",
       "    </tr>\n",
       "    <tr>\n",
       "      <th>ALDD2xm</th>\n",
       "      <td>1000.0</td>\n",
       "      <td>1000.0</td>\n",
       "      <td>0.0</td>\n",
       "      <td>0.0</td>\n",
       "      <td>True</td>\n",
       "      <td>False</td>\n",
       "      <td>Alcohol metabolism</td>\n",
       "    </tr>\n",
       "  </tbody>\n",
       "</table>\n",
       "</div>"
      ],
      "text/plain": [
       "         mitoparp     293  293 + high NAD  mitoparp + high NAD    nad   nadp  \\\n",
       "ACOAHi     1000.0  1000.0          1000.0               1000.0  False  False   \n",
       "ALCD2if    1000.0  1000.0             0.0                  0.0   True  False   \n",
       "ALCD2yf    1000.0  1000.0             0.0                  0.0  False   True   \n",
       "ALDD2x     1000.0  1000.0             0.0                  0.0   True  False   \n",
       "ALDD2xm    1000.0  1000.0             0.0                  0.0   True  False   \n",
       "\n",
       "                  subsystem  \n",
       "ACOAHi   Acetate production  \n",
       "ALCD2if  Alcohol metabolism  \n",
       "ALCD2yf  Alcohol metabolism  \n",
       "ALDD2x   Alcohol metabolism  \n",
       "ALDD2xm  Alcohol metabolism  "
      ]
     },
     "execution_count": 16,
     "metadata": {},
     "output_type": "execute_result"
    }
   ],
   "source": [
    "bound_diff = upper_bounds.iloc[:, :4] - lower_bounds.iloc[:, :4]\n",
    "for col in [\"nad\", \"nadp\", \"subsystem\"]:\n",
    "    bound_diff[col] = upper_bounds[col]\n",
    "bound_diff.to_csv('../results/width_boundaries.csv')\n",
    "bound_diff.head()"
   ]
  },
  {
   "cell_type": "code",
   "execution_count": 17,
   "metadata": {},
   "outputs": [
    {
     "data": {
      "text/html": [
       "<div>\n",
       "<style scoped>\n",
       "    .dataframe tbody tr th:only-of-type {\n",
       "        vertical-align: middle;\n",
       "    }\n",
       "\n",
       "    .dataframe tbody tr th {\n",
       "        vertical-align: top;\n",
       "    }\n",
       "\n",
       "    .dataframe thead th {\n",
       "        text-align: right;\n",
       "    }\n",
       "</style>\n",
       "<table border=\"1\" class=\"dataframe\">\n",
       "  <thead>\n",
       "    <tr style=\"text-align: right;\">\n",
       "      <th></th>\n",
       "      <th>293</th>\n",
       "      <th>mitoparp</th>\n",
       "      <th>293 + high NAD</th>\n",
       "      <th>mitoparp + high NAD</th>\n",
       "      <th>nad</th>\n",
       "      <th>nadp</th>\n",
       "      <th>subsystem</th>\n",
       "    </tr>\n",
       "  </thead>\n",
       "  <tbody>\n",
       "    <tr>\n",
       "      <th>ACOAHi</th>\n",
       "      <td>0.0</td>\n",
       "      <td>0.01</td>\n",
       "      <td>0.0</td>\n",
       "      <td>0.01</td>\n",
       "      <td>False</td>\n",
       "      <td>False</td>\n",
       "      <td>Acetate production</td>\n",
       "    </tr>\n",
       "    <tr>\n",
       "      <th>ALCD2if</th>\n",
       "      <td>0.0</td>\n",
       "      <td>0.00</td>\n",
       "      <td>0.0</td>\n",
       "      <td>0.00</td>\n",
       "      <td>True</td>\n",
       "      <td>False</td>\n",
       "      <td>Alcohol metabolism</td>\n",
       "    </tr>\n",
       "    <tr>\n",
       "      <th>ALCD2yf</th>\n",
       "      <td>0.0</td>\n",
       "      <td>0.00</td>\n",
       "      <td>0.0</td>\n",
       "      <td>0.00</td>\n",
       "      <td>False</td>\n",
       "      <td>True</td>\n",
       "      <td>Alcohol metabolism</td>\n",
       "    </tr>\n",
       "    <tr>\n",
       "      <th>ALDD2x</th>\n",
       "      <td>0.0</td>\n",
       "      <td>0.00</td>\n",
       "      <td>0.0</td>\n",
       "      <td>0.00</td>\n",
       "      <td>True</td>\n",
       "      <td>False</td>\n",
       "      <td>Alcohol metabolism</td>\n",
       "    </tr>\n",
       "    <tr>\n",
       "      <th>ALDD2xm</th>\n",
       "      <td>0.0</td>\n",
       "      <td>0.00</td>\n",
       "      <td>0.0</td>\n",
       "      <td>0.00</td>\n",
       "      <td>True</td>\n",
       "      <td>False</td>\n",
       "      <td>Alcohol metabolism</td>\n",
       "    </tr>\n",
       "  </tbody>\n",
       "</table>\n",
       "</div>"
      ],
      "text/plain": [
       "         293  mitoparp  293 + high NAD  mitoparp + high NAD    nad   nadp  \\\n",
       "ACOAHi   0.0      0.01             0.0                 0.01  False  False   \n",
       "ALCD2if  0.0      0.00             0.0                 0.00   True  False   \n",
       "ALCD2yf  0.0      0.00             0.0                 0.00  False   True   \n",
       "ALDD2x   0.0      0.00             0.0                 0.00   True  False   \n",
       "ALDD2xm  0.0      0.00             0.0                 0.00   True  False   \n",
       "\n",
       "                  subsystem  \n",
       "ACOAHi   Acetate production  \n",
       "ALCD2if  Alcohol metabolism  \n",
       "ALCD2yf  Alcohol metabolism  \n",
       "ALDD2x   Alcohol metabolism  \n",
       "ALDD2xm  Alcohol metabolism  "
      ]
     },
     "execution_count": 17,
     "metadata": {},
     "output_type": "execute_result"
    }
   ],
   "source": [
    "fva_diff = (fva_upper.iloc[:, :4] - fva_lower.iloc[:, :4])\n",
    "for col in ['nad', 'nadp', 'subsystem']:\n",
    "    fva_diff[col] = fva_upper[col]\n",
    "fva_diff.to_csv(\"../results/width_fva.csv\")\n",
    "fva_diff.head()"
   ]
  },
  {
   "cell_type": "code",
   "execution_count": 18,
   "metadata": {},
   "outputs": [
    {
     "data": {
      "text/plain": [
       "<Axes: >"
      ]
     },
     "execution_count": 18,
     "metadata": {},
     "output_type": "execute_result"
    },
    {
     "data": {
      "image/png": "[encoded data removed]",
      "text/plain": [
       "<Figure size 640x480 with 1 Axes>"
      ]
     },
     "metadata": {},
     "output_type": "display_data"
    }
   ],
   "source": [
    "fva_diff[fva_diff.nad].iloc[:, :-3].mean(axis=1).hist(\n",
    "    bins=75\n",
    ")"
   ]
  },
  {
   "cell_type": "code",
   "execution_count": 19,
   "metadata": {},
   "outputs": [
    {
     "data": {
      "text/plain": [
       "<Axes: >"
      ]
     },
     "execution_count": 19,
     "metadata": {},
     "output_type": "execute_result"
    },
    {
     "data": {
      "image/png": "[encoded data removed]",
      "text/plain": [
       "<Figure size 640x480 with 1 Axes>"
      ]
     },
     "metadata": {},
     "output_type": "display_data"
    }
   ],
   "source": [
    "from math import log\n",
    "safe_log = lambda x: log(x + .001)\n",
    "fva_diff[fva_diff.nad].iloc[:, :-3].mean(axis=1).map(lambda x: safe_log(x)).hist(bins=75)"
   ]
  }
 ],
 "metadata": {
  "kernelspec": {
   "display_name": "nad3",
   "language": "python",
   "name": "python3"
  },
  "language_info": {
   "codemirror_mode": {
    "name": "ipython",
    "version": 3
   },
   "file_extension": ".py",
   "mimetype": "text/x-python",
   "name": "python",
   "nbconvert_exporter": "python",
   "pygments_lexer": "ipython3",
   "version": "3.12.0"
  }
 },
 "nbformat": 4,
 "nbformat_minor": 2
}
