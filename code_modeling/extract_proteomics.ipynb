{
 "cells": [
  {
   "cell_type": "code",
   "execution_count": 1,
   "metadata": {
    "ExecuteTime": {
     "end_time": "2020-07-20T15:09:22.720507Z",
     "start_time": "2020-07-20T15:09:22.176711Z"
    }
   },
   "outputs": [],
   "source": [
    "import pandas as pd\n",
    "from pathlib import Path"
   ]
  },
  {
   "cell_type": "code",
   "execution_count": 2,
   "metadata": {},
   "outputs": [],
   "source": [
    "base_path = Path(\"../external_data\")\n",
    "reads = base_path / \"proteomics.xlsx\"\n",
    "assert reads.is_file()"
   ]
  },
  {
   "cell_type": "code",
   "execution_count": 3,
   "metadata": {
    "ExecuteTime": {
     "end_time": "2020-07-20T15:09:55.628489Z",
     "start_time": "2020-07-20T15:09:22.727556Z"
    }
   },
   "outputs": [],
   "source": [
    "data = pd.read_excel(reads)\n",
    "data.set_index('Accession', inplace=True)"
   ]
  },
  {
   "cell_type": "code",
   "execution_count": 4,
   "metadata": {},
   "outputs": [],
   "source": [
    "data.fillna(0., inplace=True)"
   ]
  },
  {
   "cell_type": "code",
   "execution_count": 5,
   "metadata": {
    "ExecuteTime": {
     "end_time": "2020-07-20T15:09:55.932389Z",
     "start_time": "2020-07-20T15:09:55.732367Z"
    }
   },
   "outputs": [],
   "source": [
    "data.drop('P09874', axis=0, inplace=True) # this is PARP1"
   ]
  },
  {
   "cell_type": "code",
   "execution_count": 6,
   "metadata": {
    "ExecuteTime": {
     "end_time": "2020-07-20T15:09:55.970779Z",
     "start_time": "2020-07-20T15:09:55.934066Z"
    }
   },
   "outputs": [],
   "source": [
    "mp_cols = [col for col in data.columns if col.startswith('mitoparp')]\n",
    "parent_cols = [col for col in data.columns if col.startswith(\"parental\")]"
   ]
  },
  {
   "cell_type": "code",
   "execution_count": 7,
   "metadata": {
    "ExecuteTime": {
     "end_time": "2020-07-20T15:09:56.112141Z",
     "start_time": "2020-07-20T15:09:55.972814Z"
    }
   },
   "outputs": [],
   "source": [
    "cell_line_data = []\n",
    "for cols in [parent_cols, mp_cols]:\n",
    "    cell_line_data.append(data[cols].mean(axis=1))\n",
    "cell_line_data = pd.concat(cell_line_data, axis=1, sort=True)\n",
    "cell_line_data.columns = ['control', 'mp']"
   ]
  },
  {
   "cell_type": "code",
   "execution_count": 8,
   "metadata": {
    "ExecuteTime": {
     "end_time": "2020-07-20T15:09:56.161625Z",
     "start_time": "2020-07-20T15:09:56.123093Z"
    }
   },
   "outputs": [],
   "source": [
    "mapping_mc = pd.read_csv(\n",
    "    base_path / \"uniprot_acc_to_ensemble_gene.tsv\", sep=\"\\t\", index_col=0, header=0\n",
    ") # this was taken from david.ncifcrf.gov\n",
    "mapping_mc = mapping_mc[~mapping_mc.index.duplicated(keep='first')]\n",
    "cell_line_data = cell_line_data[~cell_line_data.index.duplicated(keep='first')]\n",
    "cell_line_data = pd.concat([cell_line_data, mapping_mc], axis=1, sort=True)"
   ]
  },
  {
   "cell_type": "code",
   "execution_count": 9,
   "metadata": {
    "ExecuteTime": {
     "end_time": "2020-07-20T15:09:56.192548Z",
     "start_time": "2020-07-20T15:09:56.175293Z"
    }
   },
   "outputs": [],
   "source": [
    "cell_line_data.set_index('To', inplace=True)"
   ]
  },
  {
   "cell_type": "code",
   "execution_count": 10,
   "metadata": {
    "ExecuteTime": {
     "end_time": "2020-07-20T15:09:56.322657Z",
     "start_time": "2020-07-20T15:09:56.289316Z"
    }
   },
   "outputs": [
    {
     "data": {
      "text/html": [
       "<div>\n",
       "<style scoped>\n",
       "    .dataframe tbody tr th:only-of-type {\n",
       "        vertical-align: middle;\n",
       "    }\n",
       "\n",
       "    .dataframe tbody tr th {\n",
       "        vertical-align: top;\n",
       "    }\n",
       "\n",
       "    .dataframe thead th {\n",
       "        text-align: right;\n",
       "    }\n",
       "</style>\n",
       "<table border=\"1\" class=\"dataframe\">\n",
       "  <thead>\n",
       "    <tr style=\"text-align: right;\">\n",
       "      <th></th>\n",
       "      <th>control</th>\n",
       "      <th>mp</th>\n",
       "    </tr>\n",
       "  </thead>\n",
       "  <tbody>\n",
       "    <tr>\n",
       "      <th>count</th>\n",
       "      <td>6461.000000</td>\n",
       "      <td>6461.000000</td>\n",
       "    </tr>\n",
       "    <tr>\n",
       "      <th>mean</th>\n",
       "      <td>1.025847</td>\n",
       "      <td>0.965629</td>\n",
       "    </tr>\n",
       "    <tr>\n",
       "      <th>std</th>\n",
       "      <td>1.502145</td>\n",
       "      <td>1.193348</td>\n",
       "    </tr>\n",
       "    <tr>\n",
       "      <th>min</th>\n",
       "      <td>0.000000</td>\n",
       "      <td>0.000000</td>\n",
       "    </tr>\n",
       "    <tr>\n",
       "      <th>25%</th>\n",
       "      <td>0.882000</td>\n",
       "      <td>0.849667</td>\n",
       "    </tr>\n",
       "    <tr>\n",
       "      <th>50%</th>\n",
       "      <td>1.015667</td>\n",
       "      <td>0.977000</td>\n",
       "    </tr>\n",
       "    <tr>\n",
       "      <th>75%</th>\n",
       "      <td>1.130667</td>\n",
       "      <td>1.077333</td>\n",
       "    </tr>\n",
       "    <tr>\n",
       "      <th>max</th>\n",
       "      <td>67.047667</td>\n",
       "      <td>66.666667</td>\n",
       "    </tr>\n",
       "  </tbody>\n",
       "</table>\n",
       "</div>"
      ],
      "text/plain": [
       "           control           mp\n",
       "count  6461.000000  6461.000000\n",
       "mean      1.025847     0.965629\n",
       "std       1.502145     1.193348\n",
       "min       0.000000     0.000000\n",
       "25%       0.882000     0.849667\n",
       "50%       1.015667     0.977000\n",
       "75%       1.130667     1.077333\n",
       "max      67.047667    66.666667"
      ]
     },
     "execution_count": 10,
     "metadata": {},
     "output_type": "execute_result"
    }
   ],
   "source": [
    "cell_line_data.describe()"
   ]
  },
  {
   "cell_type": "code",
   "execution_count": 11,
   "metadata": {
    "ExecuteTime": {
     "end_time": "2020-07-20T15:09:56.287678Z",
     "start_time": "2020-07-20T15:09:56.194578Z"
    }
   },
   "outputs": [],
   "source": [
    "cell_line_data.to_csv(base_path / \"293parp_abundance_ratios_mapped.csv\")"
   ]
  }
 ],
 "metadata": {
  "kernelspec": {
   "display_name": "Python 3",
   "language": "python",
   "name": "python3"
  },
  "language_info": {
   "codemirror_mode": {
    "name": "ipython",
    "version": 3
   },
   "file_extension": ".py",
   "mimetype": "text/x-python",
   "name": "python",
   "nbconvert_exporter": "python",
   "pygments_lexer": "ipython3",
   "version": "3.10.13"
  },
  "toc": {
   "base_numbering": 1,
   "nav_menu": {},
   "number_sections": true,
   "sideBar": true,
   "skip_h1_title": false,
   "title_cell": "Table of Contents",
   "title_sidebar": "Contents",
   "toc_cell": false,
   "toc_position": {},
   "toc_section_display": true,
   "toc_window_display": false
  },
  "varInspector": {
   "cols": {
    "lenName": 16,
    "lenType": 16,
    "lenVar": 40
   },
   "kernels_config": {
    "python": {
     "delete_cmd_postfix": "",
     "delete_cmd_prefix": "del ",
     "library": "var_list.py",
     "varRefreshCmd": "print(var_dic_list())"
    },
    "r": {
     "delete_cmd_postfix": ") ",
     "delete_cmd_prefix": "rm(",
     "library": "var_list.r",
     "varRefreshCmd": "cat(var_dic_list()) "
    }
   },
   "types_to_exclude": [
    "module",
    "function",
    "builtin_function_or_method",
    "instance",
    "_Feature"
   ],
   "window_display": false
  }
 },
 "nbformat": 4,
 "nbformat_minor": 4
}
